{
 "cells": [
  {
   "cell_type": "markdown",
   "id": "45589612-0296-44ba-9583-f36f74c399ff",
   "metadata": {},
   "source": [
    "##1.Which keyword is used to create a function? Create a function to return a list of odd numbers in the range of 1 to 25."
   ]
  },
  {
   "cell_type": "code",
   "execution_count": 8,
   "id": "b07bfa7c-661b-4f5d-91cc-c423957654b8",
   "metadata": {},
   "outputs": [],
   "source": [
    "# def\n",
    "def odd_numbers():\n",
    "    l=[]\n",
    "    for i in range(1,25):\n",
    "        if i%2 !=0:\n",
    "            l.append(i)\n",
    "    return l"
   ]
  },
  {
   "cell_type": "markdown",
   "id": "d967112e-7620-46fc-a0f9-45953ffe5571",
   "metadata": {},
   "source": [
    "##2.Why *args and **kwargs is used in some functions? Create a function each for *args and **kwargs to demonstrate their use."
   ]
  },
  {
   "cell_type": "code",
   "execution_count": 1,
   "id": "8110be02-123a-4589-9d0e-47ba9d33b7ba",
   "metadata": {},
   "outputs": [
    {
     "name": "stdout",
     "output_type": "stream",
     "text": [
      "sum: 15\n",
      "sum: 21\n",
      "sum: 45\n"
     ]
    },
    {
     "data": {
      "text/plain": [
       "{'plat': 'pw', 'cours': 'datascience', 'topic': 'python'}"
      ]
     },
     "execution_count": 1,
     "metadata": {},
     "output_type": "execute_result"
    }
   ],
   "source": [
    "# We use *args and **kwargs as an argument when we are unsure about the number of arguments to pass in the functions.\n",
    "# *args = pass the variable number of non keyword arguments to funcion\n",
    "def add(*num):\n",
    "    sum=0\n",
    "    \n",
    "    for n in num:\n",
    "        sum=sum+n\n",
    "        \n",
    "    print(\"sum:\",sum)\n",
    "    \n",
    "add(1,2,3,4,5)\n",
    "add(4,5,6,1,2,3)\n",
    "add(5,2,8,9,7,5,9) \n",
    "     \n",
    "\n",
    "#**kwargs=pass the  variable length of keyword arguments to the function\n",
    "def skill(**kwargs):\n",
    "    return kwargs\n",
    "    \n",
    "skill(plat=\"pw\",cours=\"datascience\",topic=\"python\") "
   ]
  },
  {
   "cell_type": "markdown",
   "id": "b52c2f4d-4be9-434e-bcdb-e04454e65efd",
   "metadata": {},
   "source": [
    "##3.What is an iterator in python? Name the method used to initialise the iterator object and the method used for iteration.Use these methods to print the first five elements of the given list[2,4,6,8,10,,12,14,16,18,20]"
   ]
  },
  {
   "cell_type": "code",
   "execution_count": 5,
   "id": "2c62ff37-f0c1-4d86-989c-7a42f4c9843b",
   "metadata": {},
   "outputs": [
    {
     "name": "stdout",
     "output_type": "stream",
     "text": [
      "2\n",
      "4\n",
      "6\n",
      "8\n",
      "10\n"
     ]
    }
   ],
   "source": [
    "# Iterator is an object in python that is used to iterate over iterable objects like list,tuples,dic and sets.\n",
    "# iter()=method is used to initialise the iterator object \n",
    "# next()=method is used for iteration\n",
    "list=[2,4,6,8,10,12,14,16,18,20]\n",
    "list2=iter(list)\n",
    "print(next(list2))\n",
    "print(next(list2))\n",
    "print(next(list2))\n",
    "print(next(list2))\n",
    "print(next(list2))"
   ]
  },
  {
   "cell_type": "markdown",
   "id": "3680fc38-c828-41f2-9f25-b26e7acd773c",
   "metadata": {},
   "source": [
    "##4.What is a generator function in python? Why yield keyword is used? Give an example of a generator function."
   ]
  },
  {
   "cell_type": "code",
   "execution_count": 31,
   "id": "42941f0e-8bec-4a46-a78f-7647b5e25cfd",
   "metadata": {},
   "outputs": [],
   "source": [
    "# Generator function in Python is a function that is commonly used to return a sequence of values.\n",
    "# Generator function behaves like a normal function but rather it uses a yield statement to return a value instead of return statement.\n",
    "# Yield statement returns the elements from a generator function into a generator object.\n",
    "def test_fib1(n):\n",
    "    a,b =0,1\n",
    "    for i in range(n):\n",
    "        yield a\n",
    "        a,b =b,a+b"
   ]
  },
  {
   "cell_type": "code",
   "execution_count": 32,
   "id": "a016ee63-af7a-4be4-91a5-b82632de1764",
   "metadata": {},
   "outputs": [
    {
     "name": "stdout",
     "output_type": "stream",
     "text": [
      "0\n",
      "1\n",
      "1\n",
      "2\n",
      "3\n",
      "5\n",
      "8\n",
      "13\n",
      "21\n",
      "34\n"
     ]
    }
   ],
   "source": [
    "for i in test_fib1(10):\n",
    "        print(i)"
   ]
  },
  {
   "cell_type": "markdown",
   "id": "954eb039-d158-4b48-80af-83cf2d449c62",
   "metadata": {},
   "source": [
    "##5.Creat a generator function for prime numbers less than 1000.Use the next() method to first 20 prime numbers."
   ]
  },
  {
   "cell_type": "code",
   "execution_count": 4,
   "id": "f64e9b3c-ee08-4a77-993c-58ec0e07eae2",
   "metadata": {},
   "outputs": [
    {
     "name": "stdout",
     "output_type": "stream",
     "text": [
      "2\n",
      "3\n",
      "5\n",
      "7\n",
      "11\n",
      "13\n",
      "17\n",
      "19\n",
      "23\n",
      "29\n",
      "31\n",
      "37\n",
      "41\n",
      "43\n",
      "47\n",
      "53\n",
      "59\n",
      "61\n",
      "67\n",
      "71\n"
     ]
    }
   ],
   "source": [
    "def generate_primes():\n",
    "    primes = []\n",
    "    for num in range(2, 1000):\n",
    "        for prime in primes:\n",
    "            if num % prime == 0:\n",
    "                break\n",
    "        else:\n",
    "            primes.append(num)\n",
    "            yield num\n",
    "prime_generator = generate_primes()\n",
    "for i in range(20):\n",
    "    print(next(prime_generator))"
   ]
  },
  {
   "cell_type": "markdown",
   "id": "db471d06-5d2f-4d2b-8e5c-efb20fbeae55",
   "metadata": {},
   "source": [
    "##6.Write a python program to print the first 10 Fibonacci numbers using a while loop."
   ]
  },
  {
   "cell_type": "code",
   "execution_count": 1,
   "id": "7035eeb8-bd5f-4c44-9dda-75cc7288ac37",
   "metadata": {},
   "outputs": [
    {
     "name": "stdout",
     "output_type": "stream",
     "text": [
      "0\n",
      "1\n",
      "1\n",
      "2\n",
      "3\n",
      "5\n",
      "8\n",
      "13\n",
      "21\n",
      "34\n"
     ]
    }
   ],
   "source": [
    "a,b=0,1\n",
    "counter =0\n",
    "while counter<10:\n",
    "    print(a)\n",
    "    c=a+b\n",
    "    a=b\n",
    "    b=c\n",
    "    counter=counter+1"
   ]
  },
  {
   "cell_type": "markdown",
   "id": "3839ec92-1c59-4aa4-a52a-041ac9ece103",
   "metadata": {},
   "source": [
    "##7.Write a List Comprehension to iterate through the given stringe:'pwskills'.Expected output:['p','w','s','k','i','l','l','s']"
   ]
  },
  {
   "cell_type": "code",
   "execution_count": 1,
   "id": "1be88d51-32a4-4885-a440-67fcd9fbf330",
   "metadata": {},
   "outputs": [
    {
     "name": "stdout",
     "output_type": "stream",
     "text": [
      "['p', 'w', 's', 'k', 'i', 'l', 'l', 's']\n"
     ]
    }
   ],
   "source": [
    "list=[charactor for charactor in 'pwskills']\n",
    "print(list)"
   ]
  },
  {
   "cell_type": "markdown",
   "id": "74c80211-6312-4860-ae60-f7ca975b8b05",
   "metadata": {},
   "source": [
    "##8.Write a python program to check whether a given number is Palindrome or not using a while loop."
   ]
  },
  {
   "cell_type": "code",
   "execution_count": 3,
   "id": "7f65b23f-e47a-4aa3-8a5a-c1677b312d90",
   "metadata": {},
   "outputs": [
    {
     "name": "stdout",
     "output_type": "stream",
     "text": [
      "Not Palindrome\n"
     ]
    }
   ],
   "source": [
    "num = 1234\n",
    "reverse = int(str(num)[::-1])\n",
    "\n",
    "if num == reverse:\n",
    "  print('Palindrome')\n",
    "else:\n",
    "  print(\"Not Palindrome\")"
   ]
  },
  {
   "cell_type": "markdown",
   "id": "4a6c197c-b213-4068-811f-4870066b43ed",
   "metadata": {},
   "source": [
    "##9.Write a code to print odd numbers from 1 to 100 using list comprehension."
   ]
  },
  {
   "cell_type": "markdown",
   "id": "2585180e-6fa3-4470-80e8-96a998f9447b",
   "metadata": {},
   "source": [
    "Note: Use a list comprehension to create a list from 1 to 100 and use another List comprehension to filter \n",
    "out odd numbers."
   ]
  },
  {
   "cell_type": "code",
   "execution_count": 2,
   "id": "b94d1ff0-3d0f-48e3-981c-a2eb9f933ed8",
   "metadata": {},
   "outputs": [
    {
     "name": "stdout",
     "output_type": "stream",
     "text": [
      "simple list= [1, 2, 3, 4, 5, 6, 7, 8, 9, 10, 11, 12, 13, 14, 15, 16, 17, 18, 19, 20, 21, 22, 23, 24, 25, 26, 27, 28, 29, 30, 31, 32, 33, 34, 35, 36, 37, 38, 39, 40, 41, 42, 43, 44, 45, 46, 47, 48, 49, 50, 51, 52, 53, 54, 55, 56, 57, 58, 59, 60, 61, 62, 63, 64, 65, 66, 67, 68, 69, 70, 71, 72, 73, 74, 75, 76, 77, 78, 79, 80, 81, 82, 83, 84, 85, 86, 87, 88, 89, 90, 91, 92, 93, 94, 95, 96, 97, 98, 99]\n",
      "odd list= [1, 3, 5, 7, 9, 11, 13, 15, 17, 19, 21, 23, 25, 27, 29, 31, 33, 35, 37, 39, 41, 43, 45, 47, 49, 51, 53, 55, 57, 59, 61, 63, 65, 67, 69, 71, 73, 75, 77, 79, 81, 83, 85, 87, 89, 91, 93, 95, 97, 99]\n"
     ]
    }
   ],
   "source": [
    "list=[x for x in range(1,100)]\n",
    "print('simple list=',list)\n",
    "\n",
    "\n",
    "# filter out odd number\n",
    "list1=[x for x in range(1,100) if x%2 !=0]\n",
    "print('odd list=',list1)"
   ]
  },
  {
   "cell_type": "code",
   "execution_count": null,
   "id": "63552450-6881-4883-a595-9ea402afcce0",
   "metadata": {},
   "outputs": [],
   "source": []
  }
 ],
 "metadata": {
  "kernelspec": {
   "display_name": "Python 3 (ipykernel)",
   "language": "python",
   "name": "python3"
  },
  "language_info": {
   "codemirror_mode": {
    "name": "ipython",
    "version": 3
   },
   "file_extension": ".py",
   "mimetype": "text/x-python",
   "name": "python",
   "nbconvert_exporter": "python",
   "pygments_lexer": "ipython3",
   "version": "3.10.8"
  }
 },
 "nbformat": 4,
 "nbformat_minor": 5
}
