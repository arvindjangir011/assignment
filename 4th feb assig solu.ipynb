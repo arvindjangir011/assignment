{
 "cells": [
  {
   "cell_type": "markdown",
   "id": "96b43d15-d0c5-4301-b37e-a6e5ce3d778a",
   "metadata": {},
   "source": [
    "##1.Create a python programe to sort the given list of tuple based on integer value using a lambda function."
   ]
  },
  {
   "cell_type": "markdown",
   "id": "d4f1418c-a94d-4a00-a131-172a125e9fe4",
   "metadata": {},
   "source": [
    "[('Sachin Tendulkar',34357),('Ricky Ponting',27483),('Jack Kallis',25534),('virat Kohli',24936)] "
   ]
  },
  {
   "cell_type": "code",
   "execution_count": 20,
   "id": "bbb79a19-fe75-4dcd-94c4-43ca0f93cd36",
   "metadata": {},
   "outputs": [
    {
     "name": "stdout",
     "output_type": "stream",
     "text": [
      "[('virat Kohli', 24936), ('Jack Kallis', 25534), ('Ricky Ponting', 27483), ('Sachin Tendulkar', 34357)]\n"
     ]
    }
   ],
   "source": [
    "list_tuple=[('Sachin Tendulkar',34357),('Ricky Ponting',27483),('Jack Kallis',25534),('virat Kohli',24936)]\n",
    "list_tuple.sort(key=lambda x:x[1])\n",
    "print(list_tuple)"
   ]
  },
  {
   "cell_type": "markdown",
   "id": "aa066653-98fa-4111-becb-20537bea3890",
   "metadata": {},
   "source": [
    "##2.Write a python program to find the squares of all the numbers in the given list of integers using lambda and map functions."
   ]
  },
  {
   "cell_type": "markdown",
   "id": "7ac29590-b771-4e0e-a22e-886154263897",
   "metadata": {},
   "source": [
    "[1,2,3,4,5,6,7,8,9,10]"
   ]
  },
  {
   "cell_type": "code",
   "execution_count": 18,
   "id": "360c5f00-9002-4d1c-b505-6028a3ef97c3",
   "metadata": {},
   "outputs": [
    {
     "data": {
      "text/plain": [
       "[1, 4, 9, 16, 25, 36, 49, 64, 81, 100]"
      ]
     },
     "execution_count": 18,
     "metadata": {},
     "output_type": "execute_result"
    }
   ],
   "source": [
    "l =[1,2,3,4,5,6,7,8,9,10]\n",
    "list(map(lambda x :x**2,l))"
   ]
  },
  {
   "cell_type": "markdown",
   "id": "236797d1-66f8-48c2-acad-0bc8071d3f87",
   "metadata": {},
   "source": [
    "##3.Write a python program to convert the given list of integers into a tuple of strings.Use map and lambda functions."
   ]
  },
  {
   "cell_type": "markdown",
   "id": "266c4000-bc16-4ac8-bc66-a8a98e16b900",
   "metadata": {},
   "source": [
    "Given String:[1,2,3,4,5,6,7,8,9,10]"
   ]
  },
  {
   "cell_type": "markdown",
   "id": "931d530d-6243-400b-8e41-a20a1bb26677",
   "metadata": {},
   "source": [
    "Expected output:('1','2','3','4','5','6','7','8','9','10')"
   ]
  },
  {
   "cell_type": "code",
   "execution_count": 24,
   "id": "16726063-c3d1-4a02-a204-2236d4bffe49",
   "metadata": {},
   "outputs": [
    {
     "data": {
      "text/plain": [
       "('1', '2', '3', '4', '5', '6', '7', '8', '9', '10')"
      ]
     },
     "execution_count": 24,
     "metadata": {},
     "output_type": "execute_result"
    }
   ],
   "source": [
    "string=[1,2,3,4,5,6,7,8,9,10]\n",
    "tuple(map(lambda x: str(x),string))"
   ]
  },
  {
   "cell_type": "markdown",
   "id": "2bbb8227-8dd5-46d3-b08d-52d5889a2c23",
   "metadata": {},
   "source": [
    "##4.Write a python program using reduce function to compute the product of a list containing numbers from 1 to 25."
   ]
  },
  {
   "cell_type": "code",
   "execution_count": 40,
   "id": "43685545-546d-435c-8e15-02a14d8f632e",
   "metadata": {},
   "outputs": [
    {
     "data": {
      "text/plain": [
       "325"
      ]
     },
     "execution_count": 40,
     "metadata": {},
     "output_type": "execute_result"
    }
   ],
   "source": [
    "def pro_list(x,y):\n",
    "    return x+y\n",
    "from functools import reduce\n",
    "numbers=[i for i in range(1,26)]\n",
    "reduce(pro_list,numbers)"
   ]
  },
  {
   "cell_type": "markdown",
   "id": "e161616c-d4e9-4c2f-9a18-9a43d3bf0890",
   "metadata": {},
   "source": [
    "##5.Write a python program to filter the numbers in a given list that are divisible by 2 and 3 using the filter function."
   ]
  },
  {
   "cell_type": "markdown",
   "id": "4eb9fb8f-e4cb-451c-ab50-a2b8e88abd7a",
   "metadata": {},
   "source": [
    "[2,3,6,9,27,60,90,120,55,46]"
   ]
  },
  {
   "cell_type": "code",
   "execution_count": 12,
   "id": "c1762248-532c-453c-99d7-511fd1dde725",
   "metadata": {},
   "outputs": [
    {
     "data": {
      "text/plain": [
       "[6, 60, 90, 120]"
      ]
     },
     "execution_count": 12,
     "metadata": {},
     "output_type": "execute_result"
    }
   ],
   "source": [
    "l=[2,3,6,9,27,60,90,120,55,46]\n",
    "list(filter(lambda x: x%2==0 and x%3==0,l))"
   ]
  },
  {
   "cell_type": "code",
   "execution_count": 14,
   "id": "32e9388a-a99f-41c5-a372-20aedf53ff93",
   "metadata": {},
   "outputs": [
    {
     "data": {
      "text/plain": [
       "[6, 60, 90, 120]"
      ]
     },
     "execution_count": 14,
     "metadata": {},
     "output_type": "execute_result"
    }
   ],
   "source": [
    "def fil_list(n):\n",
    "    if n%2==0 and n%3==0:\n",
    "        return n\n",
    "l=[2,3,6,9,27,60,90,120,55,46]\n",
    "list(filter(fil_list,l))"
   ]
  },
  {
   "cell_type": "markdown",
   "id": "1b91f73a-f6b4-4ef9-9d4d-ec2ee8131f8c",
   "metadata": {},
   "source": [
    "##6.Write a python program to find palindromes in the given list of strings using lambda and filter functions."
   ]
  },
  {
   "cell_type": "markdown",
   "id": "4e5b10f3-a390-457b-98ed-809dc35bc3cc",
   "metadata": {},
   "source": [
    "['python','php','aba','radar','level']"
   ]
  },
  {
   "cell_type": "code",
   "execution_count": 17,
   "id": "3b140a27-2848-41df-a5c9-1c000230665d",
   "metadata": {},
   "outputs": [
    {
     "name": "stdout",
     "output_type": "stream",
     "text": [
      "list of pelindromes: ['php', 'aba', 'radar', 'level']\n"
     ]
    }
   ],
   "source": [
    "l=['python','php','aba','radar','level']\n",
    "p=list(filter(lambda x :(x==\"\".join(reversed(x))),l))\n",
    "print(\"list of pelindromes:\",p)"
   ]
  },
  {
   "cell_type": "code",
   "execution_count": null,
   "id": "d9d2e0d9-34ea-4bb5-b03d-fcc6622a452c",
   "metadata": {},
   "outputs": [],
   "source": []
  }
 ],
 "metadata": {
  "kernelspec": {
   "display_name": "Python 3 (ipykernel)",
   "language": "python",
   "name": "python3"
  },
  "language_info": {
   "codemirror_mode": {
    "name": "ipython",
    "version": 3
   },
   "file_extension": ".py",
   "mimetype": "text/x-python",
   "name": "python",
   "nbconvert_exporter": "python",
   "pygments_lexer": "ipython3",
   "version": "3.10.8"
  }
 },
 "nbformat": 4,
 "nbformat_minor": 5
}
