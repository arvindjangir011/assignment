{
 "cells": [
  {
   "cell_type": "markdown",
   "id": "5fa8aac2-18fb-4515-b640-74e3302a690d",
   "metadata": {},
   "source": [
    "Q.1 Explain Class and Object with respect to Object-Oriented Programing.Give a suitable example."
   ]
  },
  {
   "cell_type": "markdown",
   "id": "cab02d3b-d390-459e-935b-ee076b8048f3",
   "metadata": {},
   "source": [
    "##Class:\n",
    "In object-oriented programming (OOP), a class is a blueprint for creating objects (a particular data structure),providing initial values for state (member variables or attributes), and implementations of behavior (member functions or methods)."
   ]
  },
  {
   "cell_type": "markdown",
   "id": "b8892c55-2dcd-4a49-b3b3-9219c8e4358a",
   "metadata": {},
   "source": [
    "##Object:\n",
    "      An object is an instance of a class. It has state and behavior. Objects can interact with one another by invoking methods that belong to their classes and sending messages to other objects."
   ]
  },
  {
   "cell_type": "code",
   "execution_count": 12,
   "id": "9ed2272a-a47f-414f-a9c2-e75ed49c912f",
   "metadata": {},
   "outputs": [],
   "source": [
    "class pwskills:\n",
    "    \n",
    "    def deshi_welcome(self):\n",
    "        print(\"Pdharo Mhare Desh\")"
   ]
  },
  {
   "cell_type": "code",
   "execution_count": 13,
   "id": "3cf192e6-0ba9-445a-a678-40806a68b3fe",
   "metadata": {},
   "outputs": [],
   "source": [
    "Arvi=pwskills()"
   ]
  },
  {
   "cell_type": "markdown",
   "id": "e1c3f502-16a9-4624-8ca9-1285e5ede552",
   "metadata": {},
   "source": [
    "print(type(Arvi))"
   ]
  },
  {
   "cell_type": "code",
   "execution_count": 16,
   "id": "fc129274-0d3d-4565-bf2e-d5533e8acc1d",
   "metadata": {},
   "outputs": [
    {
     "name": "stdout",
     "output_type": "stream",
     "text": [
      "Pdharo Mhare Desh\n"
     ]
    }
   ],
   "source": [
    "Arvi.deshi_welcome()"
   ]
  },
  {
   "cell_type": "markdown",
   "id": "1ebb49d9-86bd-4cbd-af04-4996a753f013",
   "metadata": {},
   "source": [
    "Q.2 Name the four pillars of OOPs."
   ]
  },
  {
   "cell_type": "markdown",
   "id": "56db80fc-5bde-4483-bfcd-e48da35a741b",
   "metadata": {},
   "source": [
    "1.Encapsulation\n",
    "2.Inheritance\n",
    "3.Polymorphism\n",
    "4.Abstraction"
   ]
  },
  {
   "cell_type": "markdown",
   "id": "a605a941-78a0-49d8-8edf-bad9f00df90d",
   "metadata": {},
   "source": [
    "Q.3 Explain why the __init__()function is used.Give a suitable example. "
   ]
  },
  {
   "cell_type": "markdown",
   "id": "31012cb4-23b7-4a8a-9717-813a7839d27c",
   "metadata": {},
   "source": [
    "The init() function is used to initialize an object’s properties."
   ]
  },
  {
   "cell_type": "markdown",
   "id": "f8e20e2c-f887-4564-b01a-1b253d526299",
   "metadata": {},
   "source": [
    "It is called automatically when an object is created."
   ]
  },
  {
   "cell_type": "markdown",
   "id": "b2afa2e9-ef20-4cb7-b8ad-a73af6a6eaf2",
   "metadata": {},
   "source": [
    "The init() function is also known as a constructor function."
   ]
  },
  {
   "cell_type": "code",
   "execution_count": 18,
   "id": "4c9ed7d5-103a-4e1d-af7e-5bbe60152d3b",
   "metadata": {},
   "outputs": [],
   "source": [
    "class person :\n",
    "    def __init__(self,name,age):\n",
    "        self.name=name\n",
    "        self.age=age\n",
    "    def return_person_detailes(self):\n",
    "        return self.name,self.age"
   ]
  },
  {
   "cell_type": "code",
   "execution_count": 20,
   "id": "06df35d1-0aed-42f9-bde3-f58db60a214a",
   "metadata": {},
   "outputs": [],
   "source": [
    "p1=person(\"Arvind\",24)"
   ]
  },
  {
   "cell_type": "code",
   "execution_count": 21,
   "id": "f5a357f9-eb74-43da-9f30-8fad1c47b92d",
   "metadata": {},
   "outputs": [
    {
     "data": {
      "text/plain": [
       "('Arvind', 24)"
      ]
     },
     "execution_count": 21,
     "metadata": {},
     "output_type": "execute_result"
    }
   ],
   "source": [
    "p1.return_person_detailes()"
   ]
  },
  {
   "cell_type": "markdown",
   "id": "4b815d54-3be3-4170-abcf-5744234791d5",
   "metadata": {},
   "source": [
    "Q.4. Why self is used in OOPs?"
   ]
  },
  {
   "cell_type": "markdown",
   "id": "7e4fba95-b582-45e3-840b-a11649bc8e03",
   "metadata": {},
   "source": [
    "##self represents the instance of the class. By using the “self”  we can access the attributes and methods of the class in python. It binds the attributes with the given arguments."
   ]
  },
  {
   "cell_type": "markdown",
   "id": "4ddb0162-631b-4c04-86ad-78879dc0b999",
   "metadata": {},
   "source": [
    "Q.5. What is inheritance? Give an example for each type of inheritance."
   ]
  },
  {
   "cell_type": "markdown",
   "id": "2a2a52ca-af0d-47d4-9b39-6d618ed3dbd0",
   "metadata": {},
   "source": [
    "##Inheritance is defined as the mechanism of inheriting the properties of the base class to the child class."
   ]
  },
  {
   "cell_type": "markdown",
   "id": "9f3198b6-c37b-49b5-8958-a9b517aa8ec2",
   "metadata": {},
   "source": [
    "##There are 4 types inheritance in python."
   ]
  },
  {
   "cell_type": "markdown",
   "id": "72fdc908-13e1-4a42-98f9-49f21d1951fe",
   "metadata": {},
   "source": [
    "1.single inheritance"
   ]
  },
  {
   "cell_type": "code",
   "execution_count": 2,
   "id": "7713d69d-a39b-4678-b915-adc77d920179",
   "metadata": {},
   "outputs": [],
   "source": [
    "class test:\n",
    "    \n",
    "    def child_class(self):\n",
    "        return \"the child is in 7th class\""
   ]
  },
  {
   "cell_type": "code",
   "execution_count": 3,
   "id": "ef8af381-134e-44bf-a182-d669cea3b8bd",
   "metadata": {},
   "outputs": [],
   "source": [
    "class child_class(test):\n",
    "    \n",
    "    def child_rank(self):\n",
    "        return \"the childs rank is 2nd\""
   ]
  },
  {
   "cell_type": "code",
   "execution_count": 4,
   "id": "e984072b-bbb0-439f-9488-d718836369e3",
   "metadata": {},
   "outputs": [],
   "source": [
    "child_class_obj=child_class()"
   ]
  },
  {
   "cell_type": "code",
   "execution_count": 7,
   "id": "6c586bdd-51ff-4eff-b085-9592cc073a31",
   "metadata": {},
   "outputs": [
    {
     "data": {
      "text/plain": [
       "'the childs rank is 2nd'"
      ]
     },
     "execution_count": 7,
     "metadata": {},
     "output_type": "execute_result"
    }
   ],
   "source": [
    "child_class_obj.child_rank()"
   ]
  },
  {
   "cell_type": "code",
   "execution_count": 9,
   "id": "72565af2-748a-4ae9-9b62-3b6b7638de53",
   "metadata": {},
   "outputs": [
    {
     "data": {
      "text/plain": [
       "'the child is in 7th class'"
      ]
     },
     "execution_count": 9,
     "metadata": {},
     "output_type": "execute_result"
    }
   ],
   "source": [
    "child_class_obj.child_class()"
   ]
  },
  {
   "cell_type": "markdown",
   "id": "e8e081d3-dcdb-4cb7-a5db-a68a550e47b9",
   "metadata": {},
   "source": [
    "2.Multiple inheritance"
   ]
  },
  {
   "cell_type": "code",
   "execution_count": 10,
   "id": "48f259b1-8fef-4e0a-b8db-312894d72a65",
   "metadata": {},
   "outputs": [],
   "source": [
    "class class1:\n",
    "    \n",
    "    def father_name(self):\n",
    "        return \"fathers name is RAM\""
   ]
  },
  {
   "cell_type": "code",
   "execution_count": 11,
   "id": "f51b4de5-7090-4094-8956-0af432cff238",
   "metadata": {},
   "outputs": [],
   "source": [
    "class class2:\n",
    "    \n",
    "    def mother_name(self):\n",
    "        return \"mothers name is SITA\"  "
   ]
  },
  {
   "cell_type": "code",
   "execution_count": 12,
   "id": "0cafc4ea-9942-4d09-8fbc-60100501efdd",
   "metadata": {},
   "outputs": [],
   "source": [
    "class class3(class1,class2):\n",
    "    \n",
    "    def child_name(self):\n",
    "        return \"child name is LUV\""
   ]
  },
  {
   "cell_type": "code",
   "execution_count": 13,
   "id": "c442a3c1-8572-4328-9fac-16fe0c86ee39",
   "metadata": {},
   "outputs": [],
   "source": [
    "class3_obj=class3()"
   ]
  },
  {
   "cell_type": "code",
   "execution_count": 14,
   "id": "aef06865-79af-47d5-ad2e-9fa3c4d8c480",
   "metadata": {},
   "outputs": [
    {
     "data": {
      "text/plain": [
       "'fathers name is RAM'"
      ]
     },
     "execution_count": 14,
     "metadata": {},
     "output_type": "execute_result"
    }
   ],
   "source": [
    "class3_obj.father_name()"
   ]
  },
  {
   "cell_type": "code",
   "execution_count": 15,
   "id": "e0994e08-095e-40b0-8692-9a1a5baf12b7",
   "metadata": {},
   "outputs": [
    {
     "data": {
      "text/plain": [
       "'mothers name is SITA'"
      ]
     },
     "execution_count": 15,
     "metadata": {},
     "output_type": "execute_result"
    }
   ],
   "source": [
    "class3_obj.mother_name()"
   ]
  },
  {
   "cell_type": "code",
   "execution_count": 16,
   "id": "861359c5-b972-414e-ad55-c7f852ac3ef6",
   "metadata": {},
   "outputs": [
    {
     "data": {
      "text/plain": [
       "'child name is LUV'"
      ]
     },
     "execution_count": 16,
     "metadata": {},
     "output_type": "execute_result"
    }
   ],
   "source": [
    "class3_obj.child_name()"
   ]
  },
  {
   "cell_type": "markdown",
   "id": "2318d1f2-2175-4a76-a0b2-21bb9490062d",
   "metadata": {},
   "source": [
    "3.Multilevel inheritance"
   ]
  },
  {
   "cell_type": "code",
   "execution_count": 17,
   "id": "966b98f5-cf6a-4e34-b8ca-b1915e896dc3",
   "metadata": {},
   "outputs": [],
   "source": [
    "class class1:\n",
    "    \n",
    "    def father_name(self):\n",
    "        return \"father name is RAM\""
   ]
  },
  {
   "cell_type": "code",
   "execution_count": 18,
   "id": "e1cc661b-69fe-4285-a122-5ca18c6baf68",
   "metadata": {},
   "outputs": [],
   "source": [
    "class class2(class1):\n",
    "    \n",
    "    def mother_name(self):\n",
    "        return \"mother name is SITA\""
   ]
  },
  {
   "cell_type": "code",
   "execution_count": 19,
   "id": "acdf4478-7550-4023-93a5-e1f498298195",
   "metadata": {},
   "outputs": [],
   "source": [
    "class class3(class2):\n",
    "    \n",
    "    def child_name(self):\n",
    "        return \"child name is LUV\""
   ]
  },
  {
   "cell_type": "code",
   "execution_count": 20,
   "id": "77b64a39-104f-4cf3-a39b-70a62dadee18",
   "metadata": {},
   "outputs": [],
   "source": [
    "class_obj=class3()"
   ]
  },
  {
   "cell_type": "markdown",
   "id": "48ec17c5-f1ff-4c17-b1ea-8d4ff23762ce",
   "metadata": {},
   "source": [
    "4.Hierarchical inheritance"
   ]
  },
  {
   "cell_type": "code",
   "execution_count": 21,
   "id": "2d14b47e-d589-495d-a3c9-919857f7cfc2",
   "metadata": {},
   "outputs": [],
   "source": [
    "class class1:\n",
    "    \n",
    "    def father_name(self):\n",
    "        return \"father namr is RAM\""
   ]
  },
  {
   "cell_type": "code",
   "execution_count": 22,
   "id": "f5900a90-f90a-4b8a-8f31-95dc1da2168a",
   "metadata": {},
   "outputs": [],
   "source": [
    "class class2(class1):\n",
    "    \n",
    "    def mother_name(self):\n",
    "        return \"mother name is SITA\""
   ]
  },
  {
   "cell_type": "code",
   "execution_count": 25,
   "id": "3d7d2c20-9aa6-4e1e-b00b-adeedec6b46b",
   "metadata": {},
   "outputs": [],
   "source": [
    "class class3(class1):\n",
    "    \n",
    "    def child_name(self):\n",
    "        return \"child name is LUV\""
   ]
  },
  {
   "cell_type": "code",
   "execution_count": null,
   "id": "190d376c-9ebb-47ff-bd08-7ad21ee66cdf",
   "metadata": {},
   "outputs": [],
   "source": [
    "class_obj1=class1()\n",
    "class_obj2=class"
   ]
  }
 ],
 "metadata": {
  "kernelspec": {
   "display_name": "Python 3 (ipykernel)",
   "language": "python",
   "name": "python3"
  },
  "language_info": {
   "codemirror_mode": {
    "name": "ipython",
    "version": 3
   },
   "file_extension": ".py",
   "mimetype": "text/x-python",
   "name": "python",
   "nbconvert_exporter": "python",
   "pygments_lexer": "ipython3",
   "version": "3.10.8"
  }
 },
 "nbformat": 4,
 "nbformat_minor": 5
}
