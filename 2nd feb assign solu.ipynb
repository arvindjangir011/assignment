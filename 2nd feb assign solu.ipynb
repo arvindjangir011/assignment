{
 "cells": [
  {
   "cell_type": "markdown",
   "id": "dd8d4b14-61e4-4035-824b-386d2cd0489b",
   "metadata": {
    "jp-MarkdownHeadingCollapsed": true,
    "tags": []
   },
   "source": [
    "##1.Explain with an example each when to use a for loop and a while loop."
   ]
  },
  {
   "cell_type": "markdown",
   "id": "a5e582d9-18f0-465e-b56a-b6f6509b97fb",
   "metadata": {
    "tags": []
   },
   "source": [
    " For loop:-we use for loop when we know the loop execute n times."
   ]
  },
  {
   "cell_type": "code",
   "execution_count": 1,
   "id": "613af5cb-7b3f-44ad-80fc-a95abb12bbc2",
   "metadata": {},
   "outputs": [],
   "source": [
    "l =[1,2,2,3,5,6]"
   ]
  },
  {
   "cell_type": "code",
   "execution_count": 2,
   "id": "4c4d291e-dd6d-4066-a4db-1537098d1727",
   "metadata": {},
   "outputs": [
    {
     "name": "stdout",
     "output_type": "stream",
     "text": [
      "1\n",
      "2\n",
      "2\n",
      "3\n",
      "5\n",
      "6\n"
     ]
    }
   ],
   "source": [
    "for i in l:\n",
    "    print(i)   "
   ]
  },
  {
   "cell_type": "markdown",
   "id": "04bdb2be-cf13-4e72-83ac-6c3353d86eb8",
   "metadata": {},
   "source": [
    " While loop:-we use a while loop for reading a file into a variable."
   ]
  },
  {
   "cell_type": "markdown",
   "id": "01b28f00-7bd2-4879-8d7e-e5f053f3369b",
   "metadata": {},
   "source": [
    " A while loop is used when the number of iterations is unknown."
   ]
  },
  {
   "cell_type": "code",
   "execution_count": 3,
   "id": "61fa9ee7-e6a2-4e9a-ba8d-55559d649c60",
   "metadata": {},
   "outputs": [
    {
     "name": "stdout",
     "output_type": "stream",
     "text": [
      "1\n",
      "2\n",
      "3\n",
      "4\n",
      "5\n",
      "6\n",
      "7\n"
     ]
    }
   ],
   "source": [
    "i =1\n",
    "while i <=7:\n",
    "    print(i)\n",
    "    i =i+1"
   ]
  },
  {
   "cell_type": "markdown",
   "id": "25175800-98c7-42c6-b455-f661ccf755db",
   "metadata": {},
   "source": [
    "##2.Write a python program to print the sum and product of the first 10 natural numbers using for and while loop."
   ]
  },
  {
   "cell_type": "code",
   "execution_count": 14,
   "id": "ff2ddd4f-7bf8-45ee-a9c5-825cea560c24",
   "metadata": {},
   "outputs": [
    {
     "name": "stdout",
     "output_type": "stream",
     "text": [
      "1\n",
      "2\n",
      "3\n",
      "4\n",
      "5\n",
      "6\n",
      "7\n",
      "8\n",
      "9\n",
      "10\n"
     ]
    }
   ],
   "source": [
    "for i in range(1,11):\n",
    "    print(i)"
   ]
  },
  {
   "cell_type": "code",
   "execution_count": 19,
   "id": "e1e37836-03dc-453f-b5a6-b3aa4646bfc1",
   "metadata": {},
   "outputs": [
    {
     "data": {
      "text/plain": [
       "55"
      ]
     },
     "execution_count": 19,
     "metadata": {},
     "output_type": "execute_result"
    }
   ],
   "source": [
    "result=0\n",
    "for i in range(1,11):\n",
    "    result=result+i\n",
    "result\n",
    "    "
   ]
  },
  {
   "cell_type": "code",
   "execution_count": 1,
   "id": "5dc93f30-4887-47e3-bdb8-8e834fbae62d",
   "metadata": {},
   "outputs": [
    {
     "name": "stdout",
     "output_type": "stream",
     "text": [
      "1\n",
      "2\n",
      "3\n",
      "4\n",
      "5\n",
      "6\n",
      "7\n",
      "8\n",
      "9\n",
      "10\n"
     ]
    }
   ],
   "source": [
    "i=1\n",
    "while i<=10:\n",
    "    print(i)\n",
    "    i=i+1"
   ]
  },
  {
   "cell_type": "code",
   "execution_count": 1,
   "id": "4c84e0d7-791b-4009-80f4-fc494c480f38",
   "metadata": {},
   "outputs": [
    {
     "name": "stdout",
     "output_type": "stream",
     "text": [
      "55\n"
     ]
    }
   ],
   "source": [
    "i=1\n",
    "sum=0\n",
    "while i<=10:\n",
    "    sum=sum+i\n",
    "    i=i+1\n",
    "print(sum)\n"
   ]
  },
  {
   "cell_type": "markdown",
   "id": "68561fbe-be80-49ca-b54e-173e0333c65e",
   "metadata": {
    "tags": []
   },
   "source": [
    "##3.Create a python program to compute the electricity bill for a houshold.\n",
    "The per-unit charges in rupees are as follows:For the first 100 units,the user will be charged Rs.4.5 per\n",
    "unit,for the next 100 units,the user will be charged Rs.6 per unit,and for the next 100 units,the user will\n",
    "be charged Rs.10 per unit,after 300 units and above the user will be charged Rs.20 per unit.\n",
    "\n",
    "You are required to take the units of electricity consumed in a month from the user as input.\n",
    "\n",
    "Your program must pass this test case:when the unit of electricity consumed by the user in a month is\n",
    "310,the total electricity bill should be 2250."
   ]
  },
  {
   "cell_type": "code",
   "execution_count": 43,
   "id": "81527c31-4b53-47b4-945d-e07d20455899",
   "metadata": {},
   "outputs": [
    {
     "name": "stdin",
     "output_type": "stream",
     "text": [
      "enter your consumed units 310\n"
     ]
    },
    {
     "name": "stdout",
     "output_type": "stream",
     "text": [
      "\n",
      "Electicity bill=2250.00\n"
     ]
    }
   ],
   "source": [
    "units =int(input(\"enter your consumed units\"))\n",
    "if units<=100:\n",
    "    payamount=units*4.5\n",
    "elif units<=200:\n",
    "    payamount=((100*4.5)+(units-100)*6)\n",
    "elif units<=300:\n",
    "    paamount=((100*4.5)+(100*6)+(units-200)*10)\n",
    "elif units>300:\n",
    "    payamount=((100*4.5)+(100*6)+(100*10)+(units-300)*20)\n",
    "else:\n",
    "    payamount=0\n",
    "    \n",
    "print(\"\\nElecticity bill=%.2f\" %payamount)   "
   ]
  },
  {
   "cell_type": "markdown",
   "id": "1c8781de-2e85-4103-b1e4-a7fc06e00e1a",
   "metadata": {},
   "source": [
    "##4.Create a list of numbers of 1 to 100.Use for loop and while loop to calculate the cube of each number\n",
    "and if the cube of that number is divisible by 4 or 5 then append that number in a list and print that list."
   ]
  },
  {
   "cell_type": "code",
   "execution_count": 9,
   "id": "8773785c-c7e5-44d2-9644-a58a7f09a07d",
   "metadata": {},
   "outputs": [
    {
     "name": "stdout",
     "output_type": "stream",
     "text": [
      "[2, 4, 5, 6, 8, 10, 12, 14, 15, 16, 18, 20, 22, 24, 25, 26, 28, 30, 32, 34, 35, 36, 38, 40, 42, 44, 45, 46, 48, 50, 52, 54, 55, 56, 58, 60, 62, 64, 65, 66, 68, 70, 72, 74, 75, 76, 78, 80, 82, 84, 85, 86, 88, 90, 92, 94, 95, 96, 98, 100]\n"
     ]
    }
   ],
   "source": [
    "l=[]\n",
    "for i in range(1,101):\n",
    "    cube=i**3\n",
    "    if cube% 4 == 0 or cube% 5 == 0:\n",
    "        l.append(i)\n",
    "print(l)\n",
    "    "
   ]
  },
  {
   "cell_type": "code",
   "execution_count": 1,
   "id": "bdc1279b-bd9d-47a4-8c2c-910dd695be61",
   "metadata": {},
   "outputs": [
    {
     "name": "stdout",
     "output_type": "stream",
     "text": [
      "[2, 4, 5, 6, 8, 10, 12, 14, 15, 16, 18, 20, 22, 24, 25, 26, 28, 30, 32, 34, 35, 36, 38, 40, 42, 44, 45, 46, 48, 50, 52, 54, 55, 56, 58, 60, 62, 64, 65, 66, 68, 70, 72, 74, 75, 76, 78, 80, 82, 84, 85, 86, 88, 90, 92, 94, 95, 96, 98, 100]\n"
     ]
    }
   ],
   "source": [
    "i=1\n",
    "l=[]\n",
    "\n",
    "while i<=100:\n",
    "    cube =i**3\n",
    "    if cube% 4 == 0 or cube% 5 == 0:\n",
    "        l.append(i)\n",
    "    i=i+1 \n",
    "print(l)"
   ]
  },
  {
   "cell_type": "markdown",
   "id": "9f57361c-15e4-4263-a567-4fe89c67ee3d",
   "metadata": {},
   "source": [
    "##5.Write a programe to filter count vowels in the below-given string.\n",
    "  string=\"I want to become a data scientist\""
   ]
  },
  {
   "cell_type": "code",
   "execution_count": 5,
   "id": "78e923b9-411b-46a4-a5da-7ccabb0eed16",
   "metadata": {},
   "outputs": [
    {
     "name": "stdout",
     "output_type": "stream",
     "text": [
      "[4, 3, 2, 2, 0]\n"
     ]
    }
   ],
   "source": [
    "string=\"I want to become a data scientist\" \n",
    "vowels=[string.count(x) for x in \"aeiou\"]\n",
    "print(vowels)"
   ]
  },
  {
   "cell_type": "code",
   "execution_count": 6,
   "id": "3b1aaeab-d198-409b-bbdc-35907d885595",
   "metadata": {},
   "outputs": [
    {
     "name": "stdout",
     "output_type": "stream",
     "text": [
      "i: 3\n",
      "a: 4\n",
      "o: 2\n",
      "e: 3\n"
     ]
    }
   ],
   "source": [
    "string = \"I want to become a data scientist\"\n",
    "\n",
    "vowels = \"aeiou\"\n",
    "\n",
    "# Initialize a dictionary to store the vowel counts\n",
    "vowel_counts = {}\n",
    "\n",
    "# Loop through each character in the string\n",
    "for char in string.lower():\n",
    "    # Check if the character is a vowel\n",
    "    if char in vowels:\n",
    "        # If the vowel is already in the dictionary, increment its count\n",
    "        if char in vowel_counts:\n",
    "            vowel_counts[char] += 1\n",
    "        # Otherwise, add the vowel to the dictionary with a count of 1\n",
    "        else:\n",
    "            vowel_counts[char] = 1\n",
    "\n",
    "# Print the vowel counts\n",
    "for vowel, count in vowel_counts.items():\n",
    "    print(f\"{vowel}: {count}\")"
   ]
  }
 ],
 "metadata": {
  "kernelspec": {
   "display_name": "Python 3 (ipykernel)",
   "language": "python",
   "name": "python3"
  },
  "language_info": {
   "codemirror_mode": {
    "name": "ipython",
    "version": 3
   },
   "file_extension": ".py",
   "mimetype": "text/x-python",
   "name": "python",
   "nbconvert_exporter": "python",
   "pygments_lexer": "ipython3",
   "version": "3.10.8"
  }
 },
 "nbformat": 4,
 "nbformat_minor": 5
}
