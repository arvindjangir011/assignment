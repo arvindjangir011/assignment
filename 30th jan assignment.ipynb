{
 "cells": [
  {
   "cell_type": "code",
   "execution_count": 8,
   "id": "62120c05-0dd3-4258-8691-ce8557946a74",
   "metadata": {},
   "outputs": [
    {
     "name": "stdin",
     "output_type": "stream",
     "text": [
      "enter your marks 85\n"
     ]
    },
    {
     "name": "stdout",
     "output_type": "stream",
     "text": [
      "your grade will be B\n"
     ]
    }
   ],
   "source": [
    "# 1.Write a program to accept percentage from the user and display the grade according to the following criteria:\n",
    "marks=int(input(\"enter your marks\"))\n",
    "if marks>90:\n",
    "    print(\"your grade will be A\")\n",
    "elif marks>80 and marks<=90:\n",
    "    print(\"your grade will be B\")\n",
    "elif marks>=60 and marks<=80:\n",
    "    print(\"your grade will be C\")\n",
    "else:\n",
    "    print(\"your grade will be D\")"
   ]
  },
  {
   "cell_type": "code",
   "execution_count": 7,
   "id": "3d3dec01-87e9-4802-bdf1-ea187349a575",
   "metadata": {},
   "outputs": [
    {
     "name": "stdin",
     "output_type": "stream",
     "text": [
      "enter price 80000\n"
     ]
    },
    {
     "name": "stdout",
     "output_type": "stream",
     "text": [
      "tax will be 10%\n"
     ]
    }
   ],
   "source": [
    "# 2.Write a program to accept the cost price of a bike and display the road tax to be paid according to the following criteria:\n",
    "price=int(input(\"enter price\"))\n",
    "if price >100000:\n",
    "    print(\"tax will be 15%\")\n",
    "elif 50000< price <=100000:\n",
    "    print(\"tax will be 10%\")\n",
    "else:\n",
    "    print(\"tax will be 5%\")\n",
    "    "
   ]
  },
  {
   "cell_type": "code",
   "execution_count": 3,
   "id": "caf13500-388e-4b60-aa35-96d553bfe77f",
   "metadata": {},
   "outputs": [],
   "source": [
    "# 3.Accept any city from the user and display monuments of that city.\n",
    "d={\"delhi\":\"red fort\",\"agra\":\"taj mahal\",\"jaipur\":\"jal mahal\"}"
   ]
  },
  {
   "cell_type": "code",
   "execution_count": 5,
   "id": "6ceb2a7b-1a0d-4854-a33a-ab0021ed1968",
   "metadata": {},
   "outputs": [
    {
     "data": {
      "text/plain": [
       "'red fort'"
      ]
     },
     "execution_count": 5,
     "metadata": {},
     "output_type": "execute_result"
    }
   ],
   "source": [
    "d[\"delhi\"]"
   ]
  },
  {
   "cell_type": "code",
   "execution_count": 1,
   "id": "02af3732-9a4f-4288-9dcc-5c80cce668d3",
   "metadata": {},
   "outputs": [
    {
     "name": "stdin",
     "output_type": "stream",
     "text": [
      "enter your number 702\n"
     ]
    },
    {
     "name": "stdout",
     "output_type": "stream",
     "text": [
      "1\n",
      "2\n",
      "3\n",
      "4\n"
     ]
    }
   ],
   "source": [
    "# 4.check how many times a given number can be divided by 3 before it is less than or equal to 10.\n",
    "number=int(input(\"enter your number\"))\n",
    "count=0\n",
    "while number>=10:\n",
    "      number=number/3\n",
    "      count=count+1\n",
    "      print(count)"
   ]
  },
  {
   "cell_type": "code",
   "execution_count": 2,
   "id": "f1e49bb9-f7ea-493e-a59f-292808147060",
   "metadata": {},
   "outputs": [
    {
     "name": "stdout",
     "output_type": "stream",
     "text": [
      "1\n",
      "2\n",
      "3\n",
      "4\n",
      "5\n"
     ]
    }
   ],
   "source": [
    "# 5.Why and When to use while loop in python give a detailed description with example.\n",
    "# Ans:PYthon while loop is used to run a block code until a certain condition is met.\n",
    "      # Here a while loop evaluates the condition.If the condition evaluates to True,the code inside the while loop is executed.\n",
    "  # example:-program to display numbers from 1 to 5\n",
    "i=1\n",
    "n=5\n",
    "while i<=n:\n",
    "    print(i)\n",
    "    i=i+1\n",
    "             "
   ]
  },
  {
   "cell_type": "code",
   "execution_count": 1,
   "id": "03102151-5f01-4aed-a293-5b7a21e7123e",
   "metadata": {},
   "outputs": [
    {
     "name": "stdout",
     "output_type": "stream",
     "text": [
      "0 0 0 0 0 0 \n",
      "0 1 2 3 4 5 \n",
      "0 2 4 6 8 10 \n",
      "0 3 6 9 12 15 \n",
      "\n",
      "0 0 0 0 0 0 \n",
      "0 2 4 6 8 10 \n",
      "0 4 8 12 16 20 \n",
      "0 6 12 18 24 30 \n",
      "\n",
      "0 0 0 0 0 0 \n",
      "0 3 6 9 12 15 \n",
      "0 6 12 18 24 30 \n",
      "0 9 18 27 36 45 \n",
      "\n",
      "0 0 0 0 0 0 \n",
      "0 4 8 12 16 20 \n",
      "0 8 16 24 32 40 \n",
      "0 12 24 36 48 60 \n",
      "\n"
     ]
    }
   ],
   "source": [
    "# 6.Use nested while loop to print 3 different pattern.\n",
    "i =1\n",
    "while i<=4:\n",
    "    j =0\n",
    "    while j<=3:\n",
    "        k =0\n",
    "        while k<=5:\n",
    "            print(i*j*k,end=\" \")\n",
    "            k =k+1\n",
    "        print()\n",
    "        j =j+1\n",
    "    print()\n",
    "    i =i+1\n",
    "            "
   ]
  },
  {
   "cell_type": "code",
   "execution_count": 6,
   "id": "6285126d-1110-483b-850c-fbbbfd8803e0",
   "metadata": {},
   "outputs": [
    {
     "name": "stdout",
     "output_type": "stream",
     "text": [
      "10\n",
      "9\n",
      "8\n",
      "7\n",
      "6\n",
      "5\n",
      "4\n",
      "3\n",
      "2\n",
      "1\n"
     ]
    }
   ],
   "source": [
    "# 7.Reverse a while loop to display numbers from 10 to 1.\n",
    "i=10\n",
    "while i>0:\n",
    "    print(i)\n",
    "    i=i-1"
   ]
  },
  {
   "cell_type": "code",
   "execution_count": 7,
   "id": "68f2eb97-c33c-4df0-b0df-7f1ac8349254",
   "metadata": {},
   "outputs": [
    {
     "name": "stdout",
     "output_type": "stream",
     "text": [
      "10\n",
      "9\n",
      "8\n",
      "7\n",
      "6\n",
      "5\n",
      "4\n",
      "3\n",
      "2\n",
      "1\n"
     ]
    }
   ],
   "source": [
    "# 7.Reverse a while loop to display numbers from 10 to 1.\n",
    "i=10\n",
    "while i>0:\n",
    "    print(i)\n",
    "    i=i-1"
   ]
  },
  {
   "cell_type": "code",
   "execution_count": null,
   "id": "8cd566ba-ddc0-4cd3-ae16-612265d98d61",
   "metadata": {},
   "outputs": [],
   "source": []
  }
 ],
 "metadata": {
  "kernelspec": {
   "display_name": "Python 3 (ipykernel)",
   "language": "python",
   "name": "python3"
  },
  "language_info": {
   "codemirror_mode": {
    "name": "ipython",
    "version": 3
   },
   "file_extension": ".py",
   "mimetype": "text/x-python",
   "name": "python",
   "nbconvert_exporter": "python",
   "pygments_lexer": "ipython3",
   "version": "3.10.8"
  }
 },
 "nbformat": 4,
 "nbformat_minor": 5
}
