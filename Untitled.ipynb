{
 "cells": [
  {
   "cell_type": "code",
   "execution_count": 1,
   "id": "059c119f-db58-44a4-a971-3077cb67aa4b",
   "metadata": {},
   "outputs": [],
   "source": [
    "# 1.\"Who developed Python programming Language?\n",
    "# Ans:Python developed by Guido Van Rossum\"."
   ]
  },
  {
   "cell_type": "code",
   "execution_count": 2,
   "id": "fbd94c75-388a-4687-9057-932cf44df771",
   "metadata": {},
   "outputs": [],
   "source": [
    "# 2.Which type of programming does Python support?\n",
    "# Ans:python is a multi paradism language.It supports object oriented programming,structured programming and functional programming. "
   ]
  },
  {
   "cell_type": "code",
   "execution_count": 3,
   "id": "5d7f9497-a4a2-4c96-979f-955887116357",
   "metadata": {},
   "outputs": [],
   "source": [
    "#3.Is python case sensitive when dealing with identifiers?\n",
    "# Ans:Yes."
   ]
  },
  {
   "cell_type": "code",
   "execution_count": 4,
   "id": "a4d02bb6-3fed-42e1-ae41-72497064ed86",
   "metadata": {},
   "outputs": [],
   "source": [
    "# 4.What is the correct extension of the Python file?\n",
    "# Ans.\".py\"is the correct extension of the Python file."
   ]
  },
  {
   "cell_type": "code",
   "execution_count": 5,
   "id": "6d0dc232-6e25-4fdc-9276-c00957a9efb7",
   "metadata": {},
   "outputs": [],
   "source": [
    "# 5.Is Python code compiled or interpreted?\n",
    "# Ans:Yes"
   ]
  },
  {
   "cell_type": "code",
   "execution_count": 6,
   "id": "a995fed5-0444-4d2c-9dcd-a3bc964ac6da",
   "metadata": {},
   "outputs": [],
   "source": [
    "# 6.Name a few blocks of code used to define in Python language?\n",
    "# Ans:Indentation is used to define a block of code in Python.example is braces.\n"
   ]
  },
  {
   "cell_type": "code",
   "execution_count": 7,
   "id": "f4b1a7a4-cfc8-43bd-91d0-a5061412c291",
   "metadata": {},
   "outputs": [],
   "source": [
    "# 7.State a character used to give single-line comments in python?\n",
    "# Ans:Hash(#)is used to give single-line comments in Python language."
   ]
  },
  {
   "cell_type": "code",
   "execution_count": 8,
   "id": "9d8125c4-3033-449c-b565-218309fd04ee",
   "metadata": {},
   "outputs": [],
   "source": [
    "# 8.Mension functions which can help us to find the version of Python that we are currently working on?\n",
    "# Ans:The function sys.version can help us to find the version of Pyton that we are currently working on.\n",
    "     # For example,3.5.2,2.7.3 etc."
   ]
  },
  {
   "cell_type": "code",
   "execution_count": 9,
   "id": "3f360504-4811-40c1-ba8c-69c49c4ac369",
   "metadata": {},
   "outputs": [],
   "source": [
    "# 9.Python supports the creation of anonymous functions at runtime,using a construct called?\n",
    "# Ans:It is called Lambda."
   ]
  },
  {
   "cell_type": "code",
   "execution_count": 10,
   "id": "8f2a1518-e849-4691-b093-d0964ea9b9b3",
   "metadata": {},
   "outputs": [],
   "source": [
    "# 10.What does pip stand for python?\n",
    "# Ans:Preferred Installer Program."
   ]
  },
  {
   "cell_type": "code",
   "execution_count": 11,
   "id": "2b452cab-e7d1-408e-a13f-f340ad69c8e8",
   "metadata": {},
   "outputs": [],
   "source": [
    "# 11.Mention a few built-in functions in python?\n",
    "# Ans:set()\n",
    "#     len()\n",
    "#     sum()\n",
    "#     count()\n",
    "#     keys()\n",
    "#     values()\n",
    "#     pop()\n",
    "#     insert()\n",
    "#     int()\n",
    "#     str()\n",
    "#     dict()\n",
    "#     append()\n",
    "#     extend()\n",
    "#     index()\n",
    "#     items()\n",
    "#     remove()\n",
    "#     find()\n",
    "#     title()\n",
    "#     lower()\n",
    "#     upper()\n",
    "#     bool()\n",
    "#     list()\n",
    "#     type()\n",
    "#     tuple()\n",
    "    \n",
    "    \n",
    "    \n",
    "    \n",
    "    "
   ]
  },
  {
   "cell_type": "code",
   "execution_count": 12,
   "id": "3cb97a32-a724-47ed-9f2f-4173a263dfa6",
   "metadata": {},
   "outputs": [],
   "source": [
    "# 12.What is the maximum possible length of an identifier in python?\n",
    "# Ans:The maximum possible length of an identifier in python language is 79 characters."
   ]
  },
  {
   "cell_type": "code",
   "execution_count": 13,
   "id": "1d35b918-68df-4642-86aa-c8e4f8498ba7",
   "metadata": {},
   "outputs": [],
   "source": [
    "# 13.What are the benefits of using python?\n",
    "# Ans:(1)easy to learn\n",
    "#     (2)availability of support\n",
    "#     (3)large globle community\n",
    "#     (4)in demand skill in job market"
   ]
  },
  {
   "cell_type": "code",
   "execution_count": 14,
   "id": "df6d9758-6788-4ef4-989b-2df6871a2abe",
   "metadata": {},
   "outputs": [],
   "source": [
    "# 14.How is memory managed in python?\n",
    "# Ans:Memmory management is the process by which applications read and write data. "
   ]
  },
  {
   "cell_type": "code",
   "execution_count": 15,
   "id": "836a3364-ccbd-46d7-af66-abc92f7dcc2a",
   "metadata": {},
   "outputs": [],
   "source": [
    "# 15.How to install python on Windows and set path variables?\n",
    "# Ans:Install python from this link https://www.python.org/downloads/\n",
    "# After this, install it on your PC. Look for the location where PYTHON has been installed on your PC using tge following command on your command prompt: cmd python.\n",
    "# Then go to advanced system settings and add new variable and name it as PYTHON_NAME and paste the copied path.\n",
    "# Then look for the path variable, select it's value and select edit\n",
    "# Add a semicolon towards the end of the value if it's not present and then type %PYTHON_HOME%\n"
   ]
  },
  {
   "cell_type": "code",
   "execution_count": 16,
   "id": "13753a4a-dc76-407e-9df9-f45f539c7d63",
   "metadata": {},
   "outputs": [],
   "source": [
    "# 16.Is indentation required in python?\n",
    "# Ans:Yes."
   ]
  }
 ],
 "metadata": {
  "kernelspec": {
   "display_name": "Python 3 (ipykernel)",
   "language": "python",
   "name": "python3"
  },
  "language_info": {
   "codemirror_mode": {
    "name": "ipython",
    "version": 3
   },
   "file_extension": ".py",
   "mimetype": "text/x-python",
   "name": "python",
   "nbconvert_exporter": "python",
   "pygments_lexer": "ipython3",
   "version": "3.10.8"
  }
 },
 "nbformat": 4,
 "nbformat_minor": 5
}
