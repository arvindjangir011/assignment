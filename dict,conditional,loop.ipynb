{
 "cells": [
  {
   "cell_type": "code",
   "execution_count": 1,
   "id": "5414318d-60c5-477a-b6da-de2369d02660",
   "metadata": {},
   "outputs": [],
   "source": [
    "d={}"
   ]
  },
  {
   "cell_type": "code",
   "execution_count": 2,
   "id": "5efdd5e0-4f23-49a0-be17-aedeed9840c9",
   "metadata": {},
   "outputs": [
    {
     "data": {
      "text/plain": [
       "dict"
      ]
     },
     "execution_count": 2,
     "metadata": {},
     "output_type": "execute_result"
    }
   ],
   "source": [
    "type(d)"
   ]
  },
  {
   "cell_type": "code",
   "execution_count": 3,
   "id": "7e1740ac-29dc-4f74-a197-4f7690839050",
   "metadata": {},
   "outputs": [],
   "source": [
    "d1={'key':\"arvi\"}"
   ]
  },
  {
   "cell_type": "code",
   "execution_count": 4,
   "id": "81fe2725-ea9f-413a-9a07-f4e8eb91e21f",
   "metadata": {},
   "outputs": [
    {
     "data": {
      "text/plain": [
       "{'key': 'arvi'}"
      ]
     },
     "execution_count": 4,
     "metadata": {},
     "output_type": "execute_result"
    }
   ],
   "source": [
    "d1"
   ]
  },
  {
   "cell_type": "code",
   "execution_count": 5,
   "id": "e3fa4c98-1eea-4e49-82d3-7a0e9f018c1e",
   "metadata": {},
   "outputs": [],
   "source": [
    "d2={'name':\"arvind\",\"email\":\"arvindjangir011@gmail.com\",\"number\":334534}"
   ]
  },
  {
   "cell_type": "code",
   "execution_count": 6,
   "id": "4538ba01-2950-4380-8054-5ce9b91e5653",
   "metadata": {},
   "outputs": [
    {
     "data": {
      "text/plain": [
       "{'name': 'arvind', 'email': 'arvindjangir011@gmail.com', 'number': 334534}"
      ]
     },
     "execution_count": 6,
     "metadata": {},
     "output_type": "execute_result"
    }
   ],
   "source": [
    "d2"
   ]
  },
  {
   "cell_type": "code",
   "execution_count": 7,
   "id": "78cf2e1b-0018-44c1-9806-44ca3941b744",
   "metadata": {},
   "outputs": [],
   "source": [
    "d3={123:\"arvi\",'_wgr':\"kumar\",True:12345}"
   ]
  },
  {
   "cell_type": "code",
   "execution_count": 8,
   "id": "1a881c10-de24-4af7-9f6c-18d52edb3cc2",
   "metadata": {},
   "outputs": [
    {
     "data": {
      "text/plain": [
       "{123: 'arvi', '_wgr': 'kumar', True: 12345}"
      ]
     },
     "execution_count": 8,
     "metadata": {},
     "output_type": "execute_result"
    }
   ],
   "source": [
    "d3"
   ]
  },
  {
   "cell_type": "code",
   "execution_count": 9,
   "id": "d837d3be-ac31-42a8-86f7-881eb7283f6b",
   "metadata": {},
   "outputs": [
    {
     "data": {
      "text/plain": [
       "'arvi'"
      ]
     },
     "execution_count": 9,
     "metadata": {},
     "output_type": "execute_result"
    }
   ],
   "source": [
    "d3[123]"
   ]
  },
  {
   "cell_type": "code",
   "execution_count": 10,
   "id": "8db81093-47e8-43f7-bb42-390513027ff6",
   "metadata": {},
   "outputs": [
    {
     "data": {
      "text/plain": [
       "12345"
      ]
     },
     "execution_count": 10,
     "metadata": {},
     "output_type": "execute_result"
    }
   ],
   "source": [
    "d3[True]"
   ]
  },
  {
   "cell_type": "code",
   "execution_count": 11,
   "id": "9eb06d3e-c4ef-4083-af69-3ad71cf7f9b4",
   "metadata": {},
   "outputs": [
    {
     "data": {
      "text/plain": [
       "12345"
      ]
     },
     "execution_count": 11,
     "metadata": {},
     "output_type": "execute_result"
    }
   ],
   "source": [
    "d3[1]"
   ]
  },
  {
   "cell_type": "code",
   "execution_count": 12,
   "id": "7046c13a-7006-400e-9880-9edac2c16e15",
   "metadata": {},
   "outputs": [],
   "source": [
    "d4={'name':\"arvi\",'mail_id':\"arvindjangir011@gmail.com\",\"name\":\"arvind\"}"
   ]
  },
  {
   "cell_type": "code",
   "execution_count": 13,
   "id": "a43a2256-1b75-428d-8cc6-59a494964ac9",
   "metadata": {},
   "outputs": [
    {
     "data": {
      "text/plain": [
       "'arvind'"
      ]
     },
     "execution_count": 13,
     "metadata": {},
     "output_type": "execute_result"
    }
   ],
   "source": [
    "d4['name']"
   ]
  },
  {
   "cell_type": "code",
   "execution_count": 14,
   "id": "7c442d07-b059-4e1e-ab6f-a0bdeb51ea11",
   "metadata": {},
   "outputs": [],
   "source": [
    "d5={\"company\":\"pwskills\",\"courses\":[\"web dev\",\"data science\",\"java with dsa system design\"]}"
   ]
  },
  {
   "cell_type": "code",
   "execution_count": 15,
   "id": "1505dca2-9800-4395-b062-54f65b9edd4e",
   "metadata": {},
   "outputs": [
    {
     "data": {
      "text/plain": [
       "{'company': 'pwskills',\n",
       " 'courses': ['web dev', 'data science', 'java with dsa system design']}"
      ]
     },
     "execution_count": 15,
     "metadata": {},
     "output_type": "execute_result"
    }
   ],
   "source": [
    "d5"
   ]
  },
  {
   "cell_type": "code",
   "execution_count": 16,
   "id": "30dbcb22-faf1-4b3a-b03d-d78c47cfda32",
   "metadata": {},
   "outputs": [
    {
     "data": {
      "text/plain": [
       "['web dev', 'data science', 'java with dsa system design']"
      ]
     },
     "execution_count": 16,
     "metadata": {},
     "output_type": "execute_result"
    }
   ],
   "source": [
    "d5['courses']"
   ]
  },
  {
   "cell_type": "code",
   "execution_count": 17,
   "id": "ab665330-9103-4e40-8736-189e8f064146",
   "metadata": {},
   "outputs": [
    {
     "data": {
      "text/plain": [
       "'java with dsa system design'"
      ]
     },
     "execution_count": 17,
     "metadata": {},
     "output_type": "execute_result"
    }
   ],
   "source": [
    "d5['courses'][2]"
   ]
  },
  {
   "cell_type": "code",
   "execution_count": 18,
   "id": "639bcbfe-32cc-4d17-a162-3f0e7bb0980d",
   "metadata": {},
   "outputs": [],
   "source": [
    "d6={\"number\":[2,34,3,34,34],\"assignment\":(1,2,3,4,5,6),\"launch_date\":{28,12,14},\"class_time\":{\"web_dev\":8,\"java with dsa and systemdesign\":7}}"
   ]
  },
  {
   "cell_type": "code",
   "execution_count": 19,
   "id": "4a79dfb3-0d8b-4d58-8d30-6b2fd48effa1",
   "metadata": {},
   "outputs": [
    {
     "data": {
      "text/plain": [
       "{'number': [2, 34, 3, 34, 34],\n",
       " 'assignment': (1, 2, 3, 4, 5, 6),\n",
       " 'launch_date': {12, 14, 28},\n",
       " 'class_time': {'web_dev': 8, 'java with dsa and systemdesign': 7}}"
      ]
     },
     "execution_count": 19,
     "metadata": {},
     "output_type": "execute_result"
    }
   ],
   "source": [
    "d6"
   ]
  },
  {
   "cell_type": "code",
   "execution_count": 20,
   "id": "d4cd7d53-14ac-4080-94cb-17ff010ea498",
   "metadata": {},
   "outputs": [
    {
     "data": {
      "text/plain": [
       "{'web_dev': 8, 'java with dsa and systemdesign': 7}"
      ]
     },
     "execution_count": 20,
     "metadata": {},
     "output_type": "execute_result"
    }
   ],
   "source": [
    "d6['class_time']"
   ]
  },
  {
   "cell_type": "code",
   "execution_count": 21,
   "id": "ba723cdb-671e-4e2f-a29f-286fe2250f60",
   "metadata": {},
   "outputs": [
    {
     "data": {
      "text/plain": [
       "7"
      ]
     },
     "execution_count": 21,
     "metadata": {},
     "output_type": "execute_result"
    }
   ],
   "source": [
    "d6['class_time']['java with dsa and systemdesign']"
   ]
  },
  {
   "cell_type": "code",
   "execution_count": 22,
   "id": "2dda624d-1dce-482f-8487-cf55dd77634d",
   "metadata": {},
   "outputs": [
    {
     "data": {
      "text/plain": [
       "{'number': [2, 34, 3, 34, 34],\n",
       " 'assignment': (1, 2, 3, 4, 5, 6),\n",
       " 'launch_date': {12, 14, 28},\n",
       " 'class_time': {'web_dev': 8, 'java with dsa and systemdesign': 7}}"
      ]
     },
     "execution_count": 22,
     "metadata": {},
     "output_type": "execute_result"
    }
   ],
   "source": [
    "d6"
   ]
  },
  {
   "cell_type": "code",
   "execution_count": 23,
   "id": "c82c9811-db47-4a43-866e-8dd9dd4c3fde",
   "metadata": {},
   "outputs": [],
   "source": [
    "d6['mentor']=[\"suthansu\",\"krish\",\"anurag\",\"hayder\"]"
   ]
  },
  {
   "cell_type": "code",
   "execution_count": 24,
   "id": "dda7fccc-f6df-4ca7-a9bc-48b785d17e92",
   "metadata": {},
   "outputs": [
    {
     "data": {
      "text/plain": [
       "{'number': [2, 34, 3, 34, 34],\n",
       " 'assignment': (1, 2, 3, 4, 5, 6),\n",
       " 'launch_date': {12, 14, 28},\n",
       " 'class_time': {'web_dev': 8, 'java with dsa and systemdesign': 7},\n",
       " 'mentor': ['suthansu', 'krish', 'anurag', 'hayder']}"
      ]
     },
     "execution_count": 24,
     "metadata": {},
     "output_type": "execute_result"
    }
   ],
   "source": [
    "d6"
   ]
  },
  {
   "cell_type": "code",
   "execution_count": 25,
   "id": "6f9f8350-4978-439d-877f-2bee43a9f0a6",
   "metadata": {},
   "outputs": [],
   "source": [
    "del d6['number']"
   ]
  },
  {
   "cell_type": "code",
   "execution_count": 26,
   "id": "90c7f9e1-5231-4aaf-9716-0f9fe54ea14d",
   "metadata": {},
   "outputs": [
    {
     "data": {
      "text/plain": [
       "{'assignment': (1, 2, 3, 4, 5, 6),\n",
       " 'launch_date': {12, 14, 28},\n",
       " 'class_time': {'web_dev': 8, 'java with dsa and systemdesign': 7},\n",
       " 'mentor': ['suthansu', 'krish', 'anurag', 'hayder']}"
      ]
     },
     "execution_count": 26,
     "metadata": {},
     "output_type": "execute_result"
    }
   ],
   "source": [
    "d6"
   ]
  },
  {
   "cell_type": "code",
   "execution_count": 27,
   "id": "67b8eb00-bbba-4975-baee-0b4b3361052c",
   "metadata": {},
   "outputs": [
    {
     "data": {
      "text/plain": [
       "['assignment', 'launch_date', 'class_time', 'mentor']"
      ]
     },
     "execution_count": 27,
     "metadata": {},
     "output_type": "execute_result"
    }
   ],
   "source": [
    "list(d6.keys())"
   ]
  },
  {
   "cell_type": "code",
   "execution_count": 28,
   "id": "e2003649-3d14-4ddf-8892-f17e631b3b49",
   "metadata": {},
   "outputs": [
    {
     "data": {
      "text/plain": [
       "[(1, 2, 3, 4, 5, 6),\n",
       " {12, 14, 28},\n",
       " {'web_dev': 8, 'java with dsa and systemdesign': 7},\n",
       " ['suthansu', 'krish', 'anurag', 'hayder']]"
      ]
     },
     "execution_count": 28,
     "metadata": {},
     "output_type": "execute_result"
    }
   ],
   "source": [
    "list(d6.values())"
   ]
  },
  {
   "cell_type": "code",
   "execution_count": 29,
   "id": "02218c32-ce51-4bd6-b9a8-40773aad8bdd",
   "metadata": {},
   "outputs": [
    {
     "data": {
      "text/plain": [
       "[('assignment', (1, 2, 3, 4, 5, 6)),\n",
       " ('launch_date', {12, 14, 28}),\n",
       " ('class_time', {'web_dev': 8, 'java with dsa and systemdesign': 7}),\n",
       " ('mentor', ['suthansu', 'krish', 'anurag', 'hayder'])]"
      ]
     },
     "execution_count": 29,
     "metadata": {},
     "output_type": "execute_result"
    }
   ],
   "source": [
    "list(d6.items())"
   ]
  },
  {
   "cell_type": "code",
   "execution_count": 30,
   "id": "b805706b-f4c7-4380-876b-3f571633d2d8",
   "metadata": {},
   "outputs": [
    {
     "data": {
      "text/plain": [
       "(1, 2, 3, 4, 5, 6)"
      ]
     },
     "execution_count": 30,
     "metadata": {},
     "output_type": "execute_result"
    }
   ],
   "source": [
    "d6.pop('assignment')"
   ]
  },
  {
   "cell_type": "code",
   "execution_count": 31,
   "id": "07b47fa2-581d-4bc7-a02f-681f7e8f4114",
   "metadata": {},
   "outputs": [
    {
     "data": {
      "text/plain": [
       "{'launch_date': {12, 14, 28},\n",
       " 'class_time': {'web_dev': 8, 'java with dsa and systemdesign': 7},\n",
       " 'mentor': ['suthansu', 'krish', 'anurag', 'hayder']}"
      ]
     },
     "execution_count": 31,
     "metadata": {},
     "output_type": "execute_result"
    }
   ],
   "source": [
    "d6"
   ]
  },
  {
   "cell_type": "code",
   "execution_count": 32,
   "id": "66b531ac-6072-419d-adcf-f3dca49053d9",
   "metadata": {},
   "outputs": [
    {
     "ename": "TypeError",
     "evalue": "pop expected at least 1 argument, got 0",
     "output_type": "error",
     "traceback": [
      "\u001b[0;31m---------------------------------------------------------------------------\u001b[0m",
      "\u001b[0;31mTypeError\u001b[0m                                 Traceback (most recent call last)",
      "Cell \u001b[0;32mIn[32], line 1\u001b[0m\n\u001b[0;32m----> 1\u001b[0m \u001b[43md6\u001b[49m\u001b[38;5;241;43m.\u001b[39;49m\u001b[43mpop\u001b[49m\u001b[43m(\u001b[49m\u001b[43m)\u001b[49m\n",
      "\u001b[0;31mTypeError\u001b[0m: pop expected at least 1 argument, got 0"
     ]
    }
   ],
   "source": [
    "d6.pop()"
   ]
  },
  {
   "cell_type": "code",
   "execution_count": 33,
   "id": "942abd63-cae6-473c-b497-1473926bc8d6",
   "metadata": {},
   "outputs": [
    {
     "name": "stdin",
     "output_type": "stream",
     "text": [
      "enter your marks 48\n"
     ]
    },
    {
     "name": "stdout",
     "output_type": "stream",
     "text": [
      "you will be a part of A2 batch\n"
     ]
    }
   ],
   "source": [
    "marks=int(input(\"enter your marks\"))\n",
    "if marks>=80:\n",
    "    print(\"you will be a part of A0 batch\")\n",
    "elif marks>=60 and marks<80:\n",
    "    print(\"you will be a part of A1 batch\")\n",
    "elif marks>=40 and marks<60:\n",
    "    print(\"you will be a part of A2 batch\")\n",
    "else:\n",
    "    print(\"you will be a part of A3 batch\")\n",
    "    "
   ]
  },
  {
   "cell_type": "code",
   "execution_count": 34,
   "id": "9be92185-68c2-4eb9-8a79-893176e03ac9",
   "metadata": {},
   "outputs": [
    {
     "data": {
      "text/plain": [
       "False"
      ]
     },
     "execution_count": 34,
     "metadata": {},
     "output_type": "execute_result"
    }
   ],
   "source": [
    "10>=80"
   ]
  },
  {
   "cell_type": "code",
   "execution_count": 35,
   "id": "321807da-1c4a-4e5f-9d89-1408d4580f7b",
   "metadata": {},
   "outputs": [
    {
     "name": "stdin",
     "output_type": "stream",
     "text": [
      "enter your marks 500\n"
     ]
    }
   ],
   "source": [
    "marks=int(input(\"enter your marks\"))"
   ]
  },
  {
   "cell_type": "code",
   "execution_count": 36,
   "id": "52bdc884-ece4-4a5a-a23f-9c9b25b22a7a",
   "metadata": {},
   "outputs": [
    {
     "data": {
      "text/plain": [
       "500"
      ]
     },
     "execution_count": 36,
     "metadata": {},
     "output_type": "execute_result"
    }
   ],
   "source": [
    "marks"
   ]
  },
  {
   "cell_type": "code",
   "execution_count": 37,
   "id": "f342bda5-d3fa-4494-9dac-0aa277677a04",
   "metadata": {},
   "outputs": [
    {
     "data": {
      "text/plain": [
       "int"
      ]
     },
     "execution_count": 37,
     "metadata": {},
     "output_type": "execute_result"
    }
   ],
   "source": [
    "type(marks)"
   ]
  },
  {
   "cell_type": "code",
   "execution_count": 4,
   "id": "437b4655-184a-4434-9400-24bda775b5bf",
   "metadata": {},
   "outputs": [
    {
     "name": "stdin",
     "output_type": "stream",
     "text": [
      "enter price 500\n"
     ]
    },
    {
     "name": "stdout",
     "output_type": "stream",
     "text": [
      "i will purchase\n"
     ]
    }
   ],
   "source": [
    "price=int(input(\"enter price\"))\n",
    "if price >1000:\n",
    "    print(\"i will not purchase\")\n",
    "else:\n",
    "    print(\"i will purchase\")"
   ]
  },
  {
   "cell_type": "code",
   "execution_count": 5,
   "id": "b6c4e190-2675-4f4d-a251-d474f4a45de0",
   "metadata": {},
   "outputs": [
    {
     "name": "stdin",
     "output_type": "stream",
     "text": [
      "enter price 500\n"
     ]
    },
    {
     "name": "stdout",
     "output_type": "stream",
     "text": [
      "i will purchase\n"
     ]
    }
   ],
   "source": [
    "price=int(input(\"enter price\"))\n",
    "if price >1000:\n",
    "    print(\"i will not purchase\")\n",
    "    if price>5000:\n",
    "        print(\"this is too much\")\n",
    "    elif price<2000:\n",
    "        print(\"its ok\")\n",
    "elif price<1000:\n",
    "    print(\"i will purchase\")\n",
    "else:\n",
    "    print(\"not interested\")"
   ]
  },
  {
   "cell_type": "code",
   "execution_count": 6,
   "id": "4305fdbe-2beb-4dd0-a703-7da4833f540f",
   "metadata": {},
   "outputs": [],
   "source": [
    "l=[1,2,3,4,5,6,7,8]"
   ]
  },
  {
   "cell_type": "code",
   "execution_count": 7,
   "id": "1b996e86-db57-4c5f-8941-d30094898847",
   "metadata": {},
   "outputs": [
    {
     "data": {
      "text/plain": [
       "2"
      ]
     },
     "execution_count": 7,
     "metadata": {},
     "output_type": "execute_result"
    }
   ],
   "source": [
    "l[0]+1"
   ]
  },
  {
   "cell_type": "code",
   "execution_count": 8,
   "id": "6a58a6c8-dd0a-44e6-bc42-99312e450440",
   "metadata": {},
   "outputs": [],
   "source": [
    "l1=[]"
   ]
  },
  {
   "cell_type": "code",
   "execution_count": 11,
   "id": "e9f7103b-c6e5-4c62-a173-8bd418ce25ff",
   "metadata": {},
   "outputs": [],
   "source": [
    "l1.append(l[0]+1)"
   ]
  },
  {
   "cell_type": "code",
   "execution_count": 12,
   "id": "fd571304-bc76-4bec-8dee-de08ddb68f8f",
   "metadata": {},
   "outputs": [
    {
     "data": {
      "text/plain": [
       "[2, 2]"
      ]
     },
     "execution_count": 12,
     "metadata": {},
     "output_type": "execute_result"
    }
   ],
   "source": [
    "l1"
   ]
  },
  {
   "cell_type": "code",
   "execution_count": 13,
   "id": "b7235c74-dcc8-44af-80f7-70f9fd815efd",
   "metadata": {},
   "outputs": [
    {
     "data": {
      "text/plain": [
       "[1, 2, 3, 4, 5, 6, 7, 8]"
      ]
     },
     "execution_count": 13,
     "metadata": {},
     "output_type": "execute_result"
    }
   ],
   "source": [
    "l"
   ]
  },
  {
   "cell_type": "code",
   "execution_count": 17,
   "id": "500c2ea8-4071-4a5a-afb5-ef690efca89f",
   "metadata": {},
   "outputs": [
    {
     "name": "stdout",
     "output_type": "stream",
     "text": [
      "2\n",
      "3\n",
      "4\n",
      "5\n",
      "6\n",
      "7\n",
      "8\n",
      "9\n"
     ]
    }
   ],
   "source": [
    "l1=[]\n",
    "for i in l:\n",
    "    print(i+1)\n",
    "    l1.append(i+1)"
   ]
  },
  {
   "cell_type": "code",
   "execution_count": 18,
   "id": "c8cdbc79-f715-415e-8943-5ac0dd71a2a6",
   "metadata": {},
   "outputs": [
    {
     "data": {
      "text/plain": [
       "[2, 3, 4, 5, 6, 7, 8, 9]"
      ]
     },
     "execution_count": 18,
     "metadata": {},
     "output_type": "execute_result"
    }
   ],
   "source": [
    "l1"
   ]
  },
  {
   "cell_type": "code",
   "execution_count": 19,
   "id": "75e15477-dbb8-4476-b6e2-b3c952ce6adb",
   "metadata": {},
   "outputs": [
    {
     "data": {
      "text/plain": [
       "[1, 2, 3, 4, 5, 6, 7, 8]"
      ]
     },
     "execution_count": 19,
     "metadata": {},
     "output_type": "execute_result"
    }
   ],
   "source": [
    "l"
   ]
  },
  {
   "cell_type": "code",
   "execution_count": 20,
   "id": "84692ea5-7dcb-4dfb-8499-65bb1713485e",
   "metadata": {},
   "outputs": [],
   "source": [
    "l=[\"arvi\",\"kumar\",\"pwskills\",\"course\"]"
   ]
  },
  {
   "cell_type": "code",
   "execution_count": 23,
   "id": "81e74e1c-ced6-4727-bacc-7630a668cd83",
   "metadata": {},
   "outputs": [
    {
     "name": "stdout",
     "output_type": "stream",
     "text": [
      "arvi\n",
      "kumar\n",
      "pwskills\n",
      "course\n"
     ]
    }
   ],
   "source": [
    "l1=[]\n",
    "for i in l:\n",
    "    print(i)\n",
    "    l1.append(i.upper())"
   ]
  },
  {
   "cell_type": "code",
   "execution_count": 26,
   "id": "0cf99241-ffe4-4d48-a8e8-ddf55a203640",
   "metadata": {},
   "outputs": [
    {
     "data": {
      "text/plain": [
       "['ARVI', 'KUMAR', 'PWSKILLS', 'COURSE']"
      ]
     },
     "execution_count": 26,
     "metadata": {},
     "output_type": "execute_result"
    }
   ],
   "source": [
    "l1"
   ]
  },
  {
   "cell_type": "code",
   "execution_count": null,
   "id": "a915ec1c-9a71-4876-8c45-88b401974aea",
   "metadata": {},
   "outputs": [],
   "source": [
    "l=[1,2,3,4,4,\"arvi\",\"kumar\",324,34,456,\"abc\"]"
   ]
  },
  {
   "cell_type": "code",
   "execution_count": 28,
   "id": "959c2c57-ccef-4f5d-97ba-303e7b91c660",
   "metadata": {},
   "outputs": [],
   "source": [
    "l1_num=[]\n",
    "l2_str=[]\n",
    "for i in l:\n",
    "    if type(i)==int or type(i)==float:\n",
    "        l1_num.append(i)\n",
    "    else:\n",
    "        l2_str.append(i)\n",
    "    "
   ]
  },
  {
   "cell_type": "code",
   "execution_count": 29,
   "id": "58395269-a28f-44f4-b57c-14bc4e366bc5",
   "metadata": {},
   "outputs": [
    {
     "data": {
      "text/plain": [
       "[1, 2, 3, 4, 4, 324, 34, 456]"
      ]
     },
     "execution_count": 29,
     "metadata": {},
     "output_type": "execute_result"
    }
   ],
   "source": [
    "l1_num"
   ]
  },
  {
   "cell_type": "code",
   "execution_count": 30,
   "id": "dfd34668-6489-465a-9aa3-735323e858f8",
   "metadata": {},
   "outputs": [
    {
     "data": {
      "text/plain": [
       "['arvi', 'kumar', 'abc']"
      ]
     },
     "execution_count": 30,
     "metadata": {},
     "output_type": "execute_result"
    }
   ],
   "source": [
    "l2_str"
   ]
  },
  {
   "cell_type": "code",
   "execution_count": null,
   "id": "caef2342-7771-487f-a4fb-b008c1b5b979",
   "metadata": {},
   "outputs": [],
   "source": []
  }
 ],
 "metadata": {
  "kernelspec": {
   "display_name": "Python 3 (ipykernel)",
   "language": "python",
   "name": "python3"
  },
  "language_info": {
   "codemirror_mode": {
    "name": "ipython",
    "version": 3
   },
   "file_extension": ".py",
   "mimetype": "text/x-python",
   "name": "python",
   "nbconvert_exporter": "python",
   "pygments_lexer": "ipython3",
   "version": "3.10.8"
  }
 },
 "nbformat": 4,
 "nbformat_minor": 5
}
